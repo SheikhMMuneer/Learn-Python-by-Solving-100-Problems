{
 "cells": [
  {
   "cell_type": "markdown",
   "metadata": {},
   "source": [
    "# Python Tips:"
   ]
  },
  {
   "cell_type": "code",
   "execution_count": 4,
   "metadata": {},
   "outputs": [],
   "source": [
    "def example_method(mandatory_parameter,default_parameter=\"Default\" , *args, **kwargs):\n",
    "    print(f\"\"\" mandatory_parameter = {mandatory_parameter}{type(mandatory_parameter)}\n",
    "          default_parameter = {default_parameter}{type(default_parameter)}\n",
    "          args = {args} {type(args)} \n",
    "          kwargs = {kwargs} {type(kwargs)}\"\"\")     "
   ]
  },
  {
   "cell_type": "code",
   "execution_count": 18,
   "metadata": {},
   "outputs": [
    {
     "name": "stdout",
     "output_type": "stream",
     "text": [
      " mandatory_parameter = 1\n",
      "          <class 'int'>\n",
      "          default_parameter = 2\n",
      "          <class 'int'>\n",
      "          args = (3, 4, 5, 6) <class 'tuple'>\n",
      "          kwargs = {}\n",
      "          <class 'dict'>\n",
      " mandatory_parameter = 1\n",
      "          <class 'int'>\n",
      "          default_parameter = 2\n",
      "          <class 'int'>\n",
      "          args = (3, 4, 5, 6) <class 'tuple'>\n",
      "          kwargs = {'a': '1', 'b': '2'}\n",
      "          <class 'dict'>\n"
     ]
    }
   ],
   "source": [
    "#example_method(mandatory_parameter=15)\n",
    "#example_method(15)\n",
    "#example_method(25,\"Some String\") \n",
    "#example_method(25,\"String 1\",\"String 2\",\"String 3\") \n",
    "#example_method(25,\"String 1\",\"String 2\",\"String 3\",\"String 4\",\"String 5\")\n",
    "#example_method(25,\"String 1\",\"String 2\",\"String 3\",key1='a', key2='b')\n",
    "#example_method(25,\"String 1\",key1='a', key2='b')\n",
    "#example_method(key1='a',key2='b',mandatory_parameter=25,default_parameter=\"String 1\")\n",
    "#example_method(25,\"String 1\",key1='a', key2='b')\n",
    "\n",
    "example_list = [1,2,3,4,5,6]\n",
    "example_method(*example_list)\n",
    "\n",
    "example_dict = {'a':'1', 'b':'2'}\n",
    "example_method(*example_list, **example_dict)"
   ]
  },
  {
   "cell_type": "code",
   "execution_count": 19,
   "metadata": {},
   "outputs": [
    {
     "name": "stdout",
     "output_type": "stream",
     "text": [
      "method 1\n",
      "class_method_1 method 1\n"
     ]
    }
   ],
   "source": [
    "#module_1.py\n",
    "def method_1():\n",
    "    print(\"method 1\")\n",
    "    \n",
    "class ClassA:\n",
    "    def class_method_1(self):\n",
    "        print(\"class_method_1 method 1\")\n",
    "# print(__name__)\n",
    "if __name__ == '__main__':\n",
    "    method_1()\n",
    "ClassA().class_method_1()"
   ]
  },
  {
   "cell_type": "code",
   "execution_count": 21,
   "metadata": {},
   "outputs": [],
   "source": [
    "#module_2.py\n",
    "#import  module_1\n",
    "#module_1.method_1()\n",
    "#module_1.ClassA().class_method_1()"
   ]
  },
  {
   "cell_type": "code",
   "execution_count": 1,
   "metadata": {},
   "outputs": [
    {
     "name": "stdout",
     "output_type": "stream",
     "text": [
      "1.2999999999999998\n"
     ]
    }
   ],
   "source": [
    "print(4.5 - 3.2)"
   ]
  },
  {
   "cell_type": "code",
   "execution_count": 1,
   "metadata": {},
   "outputs": [
    {
     "name": "stdout",
     "output_type": "stream",
     "text": [
      "1.3\n"
     ]
    }
   ],
   "source": [
    "from decimal import Decimal\n",
    "value1 = Decimal('4.5')\n",
    "value2 = Decimal('3.2')\n",
    "print(value1 - value2)"
   ]
  },
  {
   "cell_type": "code",
   "execution_count": 11,
   "metadata": {},
   "outputs": [
    {
     "name": "stdout",
     "output_type": "stream",
     "text": [
      "Pi : 3.141592653589793\n",
      "e : 2.718281828459045\n",
      "6\n"
     ]
    }
   ],
   "source": [
    "import math\n",
    "#math.\n",
    "print(\"Pi :\" ,math.pi)\n",
    "print(\"e :\" ,math.e)\n",
    "print(math.ceil(5.5))\n",
    "#help(math.factorial)\n",
    "#help(math.ceil)"
   ]
  },
  {
   "cell_type": "code",
   "execution_count": 44,
   "metadata": {},
   "outputs": [
    {
     "name": "stdout",
     "output_type": "stream",
     "text": [
      "5\n",
      "2\n",
      "5\n",
      "5\n"
     ]
    }
   ],
   "source": [
    "from math import *\n",
    "print(floor(5))\n",
    "# from math import gcd\n",
    "print(gcd(34,56))\n",
    "print(floor(5))\n",
    "print(floor(5))"
   ]
  },
  {
   "cell_type": "code",
   "execution_count": 54,
   "metadata": {},
   "outputs": [
    {
     "name": "stdout",
     "output_type": "stream",
     "text": [
      "1\n",
      "4\n",
      "6\n",
      "3\n",
      "4\n",
      "------\n",
      "0 - 1\n",
      "1 - 4\n",
      "2 - 6\n",
      "3 - 3\n",
      "4 - 4\n"
     ]
    }
   ],
   "source": [
    "numbers = [1,4,6,3,4] \n",
    "for number in numbers:\n",
    "        print(number)\n",
    "print(\"------\")        \n",
    "for index,number in enumerate(numbers):\n",
    "     print(f'{index} - {number}')"
   ]
  },
  {
   "cell_type": "markdown",
   "metadata": {},
   "source": [
    "# Vowels:"
   ]
  },
  {
   "cell_type": "code",
   "execution_count": 58,
   "metadata": {},
   "outputs": [
    {
     "name": "stdout",
     "output_type": "stream",
     "text": [
      "['a', 'e', 'i', 'o', 'u']\n",
      "0 - a\n",
      "1 - e\n",
      "2 - i\n",
      "3 - o\n",
      "4 - u\n"
     ]
    }
   ],
   "source": [
    "values = list('aeiou')\n",
    "print(values)\n",
    "\n",
    "for index, vowel in enumerate(values):\n",
    "    print(f'{index} - {vowel}')"
   ]
  },
  {
   "cell_type": "code",
   "execution_count": 15,
   "metadata": {},
   "outputs": [
    {
     "name": "stdout",
     "output_type": "stream",
     "text": [
      "Mean 8.2\n",
      "Median 6.5\n",
      "median_low 6\n",
      "variance 63.2\n"
     ]
    }
   ],
   "source": [
    "import statistics\n",
    "#statistics.\n",
    "marks = [1, 6, 9, 23, 2]\n",
    "print(\"Mean\" ,statistics.mean(marks)) \n",
    "marks = [1, 6, 9, 23, 2, 7]\n",
    "print(\"Median\" ,statistics.median(marks)) \n",
    "print(\"median_low\" ,statistics.median_low(marks)) \n",
    "print(\"variance\" ,statistics.variance(marks))"
   ]
  },
  {
   "cell_type": "markdown",
   "metadata": {},
   "source": [
    "# Dequeue:"
   ]
  },
  {
   "cell_type": "code",
   "execution_count": 21,
   "metadata": {},
   "outputs": [
    {
     "name": "stdout",
     "output_type": "stream",
     "text": [
      "Two\n",
      "deque(['Zero', 'One', 'Three'])\n",
      "deque(['Minus One', 'Zero', 'One', 'Three'])\n"
     ]
    }
   ],
   "source": [
    "from collections import deque\n",
    "queue = deque(['Zero','One','Two'])\n",
    "print(queue.pop())\n",
    "queue.append('Three')\n",
    "print(queue)\n",
    "queue.appendleft('Minus One')\n",
    "print(queue)"
   ]
  },
  {
   "cell_type": "markdown",
   "metadata": {},
   "source": [
    "# Datetime:"
   ]
  },
  {
   "cell_type": "code",
   "execution_count": 33,
   "metadata": {},
   "outputs": [
    {
     "name": "stdout",
     "output_type": "stream",
     "text": [
      "Today Date :  2018-08-14 01:56:57.603265\n",
      "year :  2018\n",
      "month :  8\n",
      "day :  14\n",
      "hour :  1\n",
      "minute :  56\n",
      "second :  57\n",
      "Today Date :  2019-05-27 00:00:00\n",
      "Date 2019-05-27\n",
      "Time 00:00:00\n"
     ]
    },
    {
     "data": {
      "text/plain": [
       "datetime.datetime(2019, 5, 27, 0, 0)"
      ]
     },
     "execution_count": 33,
     "metadata": {},
     "output_type": "execute_result"
    }
   ],
   "source": [
    "import datetime\n",
    "today_date = datetime.datetime.today()\n",
    "print(\"Today Date : \" ,today_date)\n",
    "print(\"year : \" ,today_date.year)\n",
    "print(\"month : \" ,today_date.month)\n",
    "print(\"day : \" ,today_date.day)\n",
    "print(\"hour : \" ,today_date.hour)\n",
    "print(\"minute : \" ,today_date.minute)\n",
    "print(\"second : \" ,today_date.second)\n",
    "\n",
    "some_date = datetime.datetime(2019, 5, 27)\n",
    "print(\"Today Date : \" ,some_date)\n",
    "print(\"Date\" , some_date.date())\n",
    "print(\"Time\" , some_date.time())\n",
    "some_date"
   ]
  },
  {
   "cell_type": "markdown",
   "metadata": {},
   "source": [
    "# DateTime Interval:"
   ]
  },
  {
   "cell_type": "code",
   "execution_count": 41,
   "metadata": {},
   "outputs": [
    {
     "name": "stdout",
     "output_type": "stream",
     "text": [
      "Add Days :  2019-08-25 00:00:00\n",
      "Add Weeks :  2019-06-17 00:00:00\n",
      "Add Hours :  2019-05-29 00:00:00\n"
     ]
    }
   ],
   "source": [
    "day = some_date\n",
    "datetime.datetime(2018, 8, 14, 9, 5, 25, 234567)\n",
    "print(\"Add Days : \" , day + datetime.timedelta(days=90))\n",
    "print(\"Add Weeks : \" , day + datetime.timedelta(weeks=3))\n",
    "print(\"Add Hours : \" , day + datetime.timedelta(hours=48))"
   ]
  },
  {
   "cell_type": "markdown",
   "metadata": {},
   "source": [
    "# UnPacking Tuple: "
   ]
  },
  {
   "cell_type": "code",
   "execution_count": 67,
   "metadata": {},
   "outputs": [
    {
     "name": "stdout",
     "output_type": "stream",
     "text": [
      "('Ranga', 1981, 'India')\n",
      "3\n",
      "Tuple by Index : Ranga 1981 India\n"
     ]
    },
    {
     "data": {
      "text/plain": [
       "('Ranga', 1981, 'India')"
      ]
     },
     "execution_count": 67,
     "metadata": {},
     "output_type": "execute_result"
    }
   ],
   "source": [
    "def create_ranga():\n",
    "    return 'Ranga',1981,'India'  # When there is more than one variable then it is tuple\n",
    "\n",
    "ranga = create_ranga()\n",
    "type(ranga)\n",
    "name, year, country = ranga\n",
    "print(ranga)\n",
    "print(len(ranga))\n",
    "print(\"Tuple by Index :\" , ranga[0],  ranga[1], ranga[2])\n",
    "name,year,country"
   ]
  },
  {
   "cell_type": "code",
   "execution_count": 70,
   "metadata": {},
   "outputs": [
    {
     "name": "stdout",
     "output_type": "stream",
     "text": [
      "<class 'tuple'>\n",
      "('Ranga', 5, 'India')\n"
     ]
    }
   ],
   "source": [
    "person = ('Ranga', 5, 'India')\n",
    "print(type(person))\n",
    "name, age, country = person\n",
    "print(person)"
   ]
  },
  {
   "cell_type": "markdown",
   "metadata": {},
   "source": [
    "# Tuple Types:"
   ]
  },
  {
   "cell_type": "code",
   "execution_count": 81,
   "metadata": {},
   "outputs": [
    {
     "name": "stdout",
     "output_type": "stream",
     "text": [
      "1 0\n",
      "<class 'tuple'>\n",
      "<class 'tuple'>\n",
      "102\n"
     ]
    }
   ],
   "source": [
    "x = 0\n",
    "y = 1\n",
    "x, y = 0, 1\n",
    "x, y = y, x\n",
    "print(x,y)\n",
    "\n",
    "x = (0)\n",
    "type(x)\n",
    "\n",
    "x = (0,)  # comma means there are other values as well\n",
    "print(type(x))\n",
    "x = 1,\n",
    "print(type(x))\n",
    "\n",
    "print(sum([12,34,56]))"
   ]
  },
  {
   "cell_type": "markdown",
   "metadata": {},
   "source": [
    "# None Type:"
   ]
  },
  {
   "cell_type": "code",
   "execution_count": 88,
   "metadata": {},
   "outputs": [
    {
     "name": "stdout",
     "output_type": "stream",
     "text": [
      "<class 'NoneType'>\n",
      " subject, great work, in28minutes@gmail.com, None, None\n",
      " None, great work, in28minutes@gmail.com, None, None\n"
     ]
    }
   ],
   "source": [
    "None\n",
    "print(type(None))\n",
    "\n",
    "def email(subject, content, to , cc=None , bcc=None):\n",
    "    print(f\" {subject}, {content}, {to}, {cc}, {bcc}\")\n",
    "    \n",
    "email(\"subject\", \"great work\", \"in28minutes@gmail.com\")\n",
    "email(None, \"great work\", \"in28minutes@gmail.com\",None, None)"
   ]
  },
  {
   "cell_type": "code",
   "execution_count": 89,
   "metadata": {},
   "outputs": [
    {
     "name": "stdout",
     "output_type": "stream",
     "text": [
      "do something\n"
     ]
    }
   ],
   "source": [
    "var = None\n",
    "if var is None :\n",
    "    print (\"do something\")"
   ]
  },
  {
   "cell_type": "markdown",
   "metadata": {},
   "source": [
    "# Is Equality in Python:"
   ]
  },
  {
   "cell_type": "code",
   "execution_count": 94,
   "metadata": {},
   "outputs": [
    {
     "name": "stdout",
     "output_type": "stream",
     "text": [
      "359318153088\n",
      "359318153032\n",
      "False\n",
      "359318153088\n",
      "True\n",
      "False\n",
      "True\n"
     ]
    }
   ],
   "source": [
    "class Student: pass   # pass is dummy class\n",
    "student1 = Student()\n",
    "student2 = Student()\n",
    "\n",
    "print(id(student1)) \n",
    "print(id(student2))\n",
    "print(student1 is student2)\n",
    "\n",
    "student3 = student1\n",
    "print(id(student3))\n",
    "\n",
    "print(student1 is student3)\n",
    "print(student1 == student2)\n",
    "print(student1 == student3)"
   ]
  },
  {
   "cell_type": "code",
   "execution_count": 99,
   "metadata": {},
   "outputs": [
    {
     "name": "stdout",
     "output_type": "stream",
     "text": [
      "359318785160\n",
      "359318785160\n",
      "True\n",
      "False\n",
      "False\n",
      "False\n"
     ]
    }
   ],
   "source": [
    "class Student:\n",
    "    def __init__(self, id):\n",
    "        self.id = id\n",
    "student1 = Student(1)\n",
    "student2 = Student(2)\n",
    "student3 = Student(1)\n",
    "student4 = student1\n",
    "print(id(student1))\n",
    "print(id(student4))\n",
    "\n",
    "print(student1 is student4)\n",
    "print(student1 is student2)\n",
    "print(student1 is student3)\n",
    "print(student1 == student3)"
   ]
  }
 ],
 "metadata": {
  "kernelspec": {
   "display_name": "Python 3",
   "language": "python",
   "name": "python3"
  },
  "language_info": {
   "codemirror_mode": {
    "name": "ipython",
    "version": 3
   },
   "file_extension": ".py",
   "mimetype": "text/x-python",
   "name": "python",
   "nbconvert_exporter": "python",
   "pygments_lexer": "ipython3",
   "version": "3.6.4"
  }
 },
 "nbformat": 4,
 "nbformat_minor": 2
}
