{
 "cells": [
  {
   "cell_type": "markdown",
   "metadata": {},
   "source": [
    "# Object Oriented Programming :"
   ]
  },
  {
   "cell_type": "code",
   "execution_count": 3,
   "metadata": {},
   "outputs": [
    {
     "name": "stdout",
     "output_type": "stream",
     "text": [
      "The Art of Computer Programming\n",
      "Learning Python in 100 Steps\n",
      "Learning RestFul Service in 50 Steps\n",
      "115\n",
      "50\n"
     ]
    }
   ],
   "source": [
    "class Book:    \n",
    "    def __init__(self, name, copies=0):\n",
    "        self.name = name\n",
    "        self.copies = copies\n",
    "    def increase_copies(self, how_much):\n",
    "        self.copies += how_much\n",
    "    def decrease_copies(self, how_much):\n",
    "        self.copies -= how_much # copies # increase_copies # decrease_copies\n",
    "        \n",
    "the_art_of_computer_programming = Book('The Art of Computer Programming')\n",
    "learning_python = Book('Learning Python in 100 Steps', 100)\n",
    "learning_restful_services = Book('Learning RestFul Service in 50 Steps')\n",
    "\n",
    "print(the_art_of_computer_programming.name)\n",
    "print(learning_python.name)\n",
    "print(learning_restful_services.name)\n",
    "\n",
    "learning_python.increase_copies(25)\n",
    "learning_python.decrease_copies(10)\n",
    "print(learning_python.copies)\n",
    "\n",
    "learning_python.copies = 50\n",
    "print(learning_python.copies)\n",
    "    "
   ]
  },
  {
   "cell_type": "code",
   "execution_count": 8,
   "metadata": {},
   "outputs": [
    {
     "name": "stdout",
     "output_type": "stream",
     "text": [
      "('China', 1400, 200)\n",
      "('Russia', 80, 900)\n",
      "('India', 1200, 100)\n",
      "('Russia', 80, 900)\n",
      "[('China', 1400, 200), ('India', 1200, 100), ('USA', 120, 300), ('Russia', 80, 900)]\n"
     ]
    }
   ],
   "source": [
    "from operator import attrgetter\n",
    "class Country:\n",
    "    def __init__(self, name, population, area):\n",
    "        self.name = name\n",
    "        self.population = population\n",
    "        self.area = area\n",
    "        \n",
    "    def __repr__(self):    # It represent toString() in Java\n",
    "        return repr((self.name,self.population,self.area))\n",
    "    \n",
    "countries = [Country('India',1200,100),Country('China', 1400, 200),Country('USA', 120, 300)]\n",
    "countries.append(Country('Russia',80,900))\n",
    "countries.sort(key=attrgetter('population'), reverse=True)\n",
    "        \n",
    "    \n",
    "print(max(countries, key=attrgetter('population')))\n",
    "print(min(countries, key=attrgetter('population')))\n",
    "print(min(countries, key=attrgetter('area')))\n",
    "print(max(countries, key=attrgetter('area')))\n",
    "print(countries)"
   ]
  },
  {
   "cell_type": "code",
   "execution_count": 6,
   "metadata": {},
   "outputs": [
    {
     "name": "stdout",
     "output_type": "stream",
     "text": [
      "Get a life\n",
      "150\n",
      "250\n"
     ]
    }
   ],
   "source": [
    "class MotorBike:\n",
    "    def __init__(self, speed):\n",
    "            self.speed = speed     \n",
    "    def increase_speed(self, how_much):\n",
    "            self.speed += how_much            \n",
    "    def decrease_speed(self, how_much):\n",
    "        if(self.speed-how_much>0):\n",
    "            self.speed -= how_much\n",
    "        else:\n",
    "            print(\"Get a life\")\n",
    "                \n",
    "                \n",
    "honda = MotorBike(50)\n",
    "ducati = MotorBike(250)\n",
    "\n",
    "honda.increase_speed(150)\n",
    "ducati.increase_speed(25)\n",
    "\n",
    "# State changes through behavior of the object\n",
    "\n",
    "honda.decrease_speed(50)\n",
    "ducati.decrease_speed(25)\n",
    "\n",
    "honda.decrease_speed(350)\n",
    "\n",
    "print(honda.speed)\n",
    "print(ducati.speed)"
   ]
  },
  {
   "cell_type": "code",
   "execution_count": 10,
   "metadata": {},
   "outputs": [
    {
     "name": "stdout",
     "output_type": "stream",
     "text": [
      "rotate\n",
      "revolve\n"
     ]
    }
   ],
   "source": [
    "class Planet(object):\n",
    "    \n",
    "    def rotate(self):\n",
    "             print(\"rotate\")\n",
    "            \n",
    "    def  revolve(self):\n",
    "           print(\"revolve\")\n",
    "            \n",
    "    def rotate_and_revolve(self):\n",
    "            self.rotate()\n",
    "            self.revolve()\n",
    "            \n",
    "earth = Planet() \n",
    "earth.rotate_and_revolve()"
   ]
  },
  {
   "cell_type": "code",
   "execution_count": 13,
   "metadata": {},
   "outputs": [
    {
     "name": "stdout",
     "output_type": "stream",
     "text": [
      "Earth\n"
     ]
    }
   ],
   "source": [
    "class Planet:\n",
    "         def __init__(self, name=\"Earth\"):\n",
    "                self.speed = 10\n",
    "                self.name = name\n",
    "                self.distance_from_sun = 10000\n",
    "earth = Planet()\n",
    "print(earth.name)"
   ]
  },
  {
   "cell_type": "markdown",
   "metadata": {},
   "source": [
    "# Data Structure :"
   ]
  },
  {
   "cell_type": "code",
   "execution_count": 21,
   "metadata": {},
   "outputs": [
    {
     "name": "stdout",
     "output_type": "stream",
     "text": [
      "4\n",
      "[23, 45, 56, 75, 35]\n",
      "[23, 45, 75, 35]\n"
     ]
    }
   ],
   "source": [
    "class Student:\n",
    "    def __init__(self, name, marks):\n",
    "            self.name = name\n",
    "            self.marks = marks \n",
    "            \n",
    "    def get_number_of_marks(self):\n",
    "        return len(self.marks)\n",
    "    \n",
    "    def get_total_sum_of_marks(self):\n",
    "        return sum(self.marks)\n",
    "    \n",
    "    def  determine_maximum_mark(self):\n",
    "        return max(self.marks)\n",
    "    \n",
    "    def determine_minimum_mark(self):\n",
    "        return min(self.marks)\n",
    "    \n",
    "    def determine_average(self):\n",
    "        return self.get_total_sum_of_marks()/self.get_number_of_marks()\n",
    "    \n",
    "    def add_new_mark(self, new_mark):\n",
    "        self.marks.append(new_mark)\n",
    "        \n",
    "    def remove_mark_at_index(self, index):\n",
    "        del self.marks[index]\n",
    "\n",
    "student = Student (\"Ranga\", [23, 45, 56, 75])\n",
    "number = student.get_number_of_marks()\n",
    "print(number)\n",
    "sum_of_marks = student.get_total_sum_of_marks()\n",
    "maximum_mark = student.determine_maximum_mark()\n",
    "minimum_mark = student.determine_minimum_mark()\n",
    "average = student.determine_average()\n",
    "student.add_new_mark(35)\n",
    "print(student.marks)\n",
    "student.remove_mark_at_index(2)\n",
    "print(student.marks)"
   ]
  },
  {
   "cell_type": "markdown",
   "metadata": {},
   "source": [
    "# Character Count by Dictionary:"
   ]
  },
  {
   "cell_type": "code",
   "execution_count": 4,
   "metadata": {},
   "outputs": [
    {
     "name": "stdout",
     "output_type": "stream",
     "text": [
      "{'T': 2, 'h': 4, 'i': 4, 's': 6, ' ': 9, 'a': 5, 'n': 4, 'w': 1, 'e': 8, 'o': 4, 'm': 1, 'c': 2, '.': 2, 'v': 1, 'r': 2, 'p': 2, 'd': 1, 'b': 1, 'f': 1}\n"
     ]
    }
   ],
   "source": [
    "mystr = \"This is an awesome occasion. This has never happened before.\"\n",
    "char_occurances = {} #This is Dictionary\n",
    "for c in mystr:\n",
    "    char_occurances[c] = char_occurances.get(c, 0) +1 \n",
    "print(char_occurances)"
   ]
  },
  {
   "cell_type": "markdown",
   "metadata": {},
   "source": [
    "# Word Count by Dictionary:"
   ]
  },
  {
   "cell_type": "code",
   "execution_count": 3,
   "metadata": {},
   "outputs": [
    {
     "name": "stdout",
     "output_type": "stream",
     "text": [
      "{'This': 2, 'is': 1, 'an': 1, 'awesome': 1, 'occasion.': 1, 'has': 1, 'never': 1, 'happened': 1, 'before.': 1}\n"
     ]
    }
   ],
   "source": [
    "str = \"This is an awesome occasion. This has never happened before.\"\n",
    "word_occurances = {} #This is Dictionary\n",
    "for word in str.split():\n",
    "     word_occurances[word] = word_occurances.get(word, 0) +1\n",
    "print(word_occurances)"
   ]
  },
  {
   "cell_type": "markdown",
   "metadata": {},
   "source": [
    "# List :"
   ]
  },
  {
   "cell_type": "code",
   "execution_count": 20,
   "metadata": {},
   "outputs": [
    {
     "name": "stdout",
     "output_type": "stream",
     "text": [
      "Sum of Marks is  246\n",
      "Maximum Marks is  80\n",
      "Minimum Marks is  45\n",
      "Length of Marks is  4\n",
      "[45, 54, 80, 67, 76]\n",
      "[45, 54, 60, 80, 67, 76]\n",
      "[45, 54, 80, 67, 76]\n",
      "67 found at Index 3\n",
      "80\n",
      "[45, 54, 67, 76]\n"
     ]
    }
   ],
   "source": [
    "marks = [45, 54, 80,67]\n",
    "print(\"Sum of Marks is \" ,sum(marks))  \n",
    "print(\"Maximum Marks is \" ,max(marks))  \n",
    "print(\"Minimum Marks is \" ,min(marks))  \n",
    "print(\"Length of Marks is \" ,len(marks))\n",
    "marks.append(76)\n",
    "print(marks)\n",
    "marks.insert(2, 60)\n",
    "print(marks)\n",
    "marks.remove(60)\n",
    "print(marks)\n",
    "index = marks.index(67)\n",
    "print(\"67 found at Index\" , index)\n",
    "print(marks[2])  # we can get at specific index from list\n",
    "del marks[2]  # to delete list\n",
    "print(marks)"
   ]
  },
  {
   "cell_type": "markdown",
   "metadata": {},
   "source": [
    "# Loop on List :"
   ]
  },
  {
   "cell_type": "code",
   "execution_count": 17,
   "metadata": {},
   "outputs": [
    {
     "name": "stdout",
     "output_type": "stream",
     "text": [
      "45\n",
      "54\n",
      "80\n",
      "67\n",
      "76\n"
     ]
    }
   ],
   "source": [
    "for mark in marks:\n",
    "    print(mark)"
   ]
  },
  {
   "cell_type": "code",
   "execution_count": 25,
   "metadata": {},
   "outputs": [
    {
     "name": "stdout",
     "output_type": "stream",
     "text": [
      "['Cat', 'Dog', 'Elephant']\n",
      "['Cat', 'Dog', 'Elephant', 'F', 'i', 's', 'h']\n",
      "['Cat', 'Dog', 'Elephant', 'F', 'i', 's', 'h', 'Fish']\n",
      "['Cat', 'Dog', 'Elephant', 'F', 'i', 's', 'h', 'Fish', 'Giraffe', 'Horse']\n",
      "['Cat', 'Dog', 'Elephant', 'F', 'i', 's', 'h', 'Fish', 'Giraffe', 'Horse', 'Lion', 'Monkey']\n"
     ]
    }
   ],
   "source": [
    "animals = ['Cat', 'Dog','Elephant']\n",
    "print(animals)\n",
    "animals.extend('Fish')\n",
    "print(animals)\n",
    "animals.append('Fish')\n",
    "print(animals)\n",
    "animals.extend(['Giraffe', 'Horse'])\n",
    "print(animals)\n",
    "animals += ['Lion','Monkey']\n",
    "print(animals)    "
   ]
  },
  {
   "cell_type": "markdown",
   "metadata": {},
   "source": [
    "# List Index Slicing :"
   ]
  },
  {
   "cell_type": "code",
   "execution_count": 48,
   "metadata": {},
   "outputs": [
    {
     "name": "stdout",
     "output_type": "stream",
     "text": [
      "['Two', 'Three', 'Four', 'Five']\n",
      "['Zero', 'One', 'Two', 'Three', 'Four', 'Five']\n",
      "['Three', 'Four', 'Five', 'Six', 'Seven', 'Eight', 'Nine']\n",
      "['One', 'Three', 'Five', 'Seven']\n",
      "['One', 'Four', 'Seven']\n",
      "['Zero', 'Three', 'Six', 'Nine']\n",
      "['Nine', 'Eight', 'Seven', 'Six', 'Five', 'Four', 'Three', 'Two', 'One', 'Zero']\n",
      "['Nine', 'Six', 'Three', 'Zero']\n",
      "Reverse List : ['Nine', 'Eight', 'Seven', 'Six', 'Five', 'Four', 'Three', 'Two', 'One', 'Zero']\n",
      "['Six', 'Two', 'One', 'Nine', 'Five', 'Four', 'Zero', 'Eight', 'Seven', 'Three']\n"
     ]
    }
   ],
   "source": [
    "numbers =  ['Zero','One','Two','Three','Four','Five','Six','Seven','Eight','Nine']\n",
    "print(numbers[2:6])\n",
    "print(numbers[:6])\n",
    "print(numbers[3:])\n",
    "print(numbers[1:8:2])\n",
    "print(numbers[1:8:3])\n",
    "print(numbers[::3])\n",
    "print(numbers[::-1])  # It will get list from reverse with 1\n",
    "print(numbers[::-3])  # It will get list from reverse with 3\n",
    "numbers.reverse()\n",
    "print(\"Reverse List :\",numbers)\n",
    "# del  numbers[3:] \n",
    "# del numbers[5:7]\n",
    "#numbers.sort()\n",
    "numbers.sort(key=len)\n",
    "print(numbers)"
   ]
  },
  {
   "cell_type": "markdown",
   "metadata": {},
   "source": [
    "# Reverse in List :"
   ]
  },
  {
   "cell_type": "code",
   "execution_count": 43,
   "metadata": {},
   "outputs": [
    {
     "name": "stdout",
     "output_type": "stream",
     "text": [
      "Zero\n",
      "One\n",
      "Two\n",
      "Three\n",
      "Four\n",
      "Five\n",
      "Six\n",
      "Seven\n",
      "Eight\n",
      "Nine\n"
     ]
    }
   ],
   "source": [
    "for number in reversed(numbers):\n",
    "        print(number)"
   ]
  },
  {
   "cell_type": "markdown",
   "metadata": {},
   "source": [
    "# Sorted in List:"
   ]
  },
  {
   "cell_type": "code",
   "execution_count": 1,
   "metadata": {},
   "outputs": [
    {
     "name": "stdout",
     "output_type": "stream",
     "text": [
      "Eight\n",
      "Five\n",
      "Four\n",
      "Nine\n",
      "One\n",
      "Seven\n",
      "Six\n",
      "Three\n",
      "Two\n",
      "Zero\n"
     ]
    }
   ],
   "source": [
    "numbers =  ['Zero','One','Two','Three','Four','Five','Six','Seven','Eight','Nine']\n",
    "for number in sorted(numbers):\n",
    "    print(number)"
   ]
  },
  {
   "cell_type": "code",
   "execution_count": 49,
   "metadata": {},
   "outputs": [
    {
     "name": "stdout",
     "output_type": "stream",
     "text": [
      "Three\n",
      "Seven\n",
      "Eight\n",
      "Zero\n",
      "Four\n",
      "Five\n",
      "Nine\n",
      "One\n",
      "Two\n",
      "Six\n"
     ]
    }
   ],
   "source": [
    "numbers =  ['Zero','One','Two','Three','Four','Five','Six','Seven','Eight','Nine']\n",
    "for number in sorted(numbers, key=len, reverse=True):\n",
    "#for number in sorted(numbers,key=len):\n",
    "    print(number)"
   ]
  },
  {
   "cell_type": "markdown",
   "metadata": {},
   "source": [
    "# List Function :"
   ]
  },
  {
   "cell_type": "code",
   "execution_count": 54,
   "metadata": {},
   "outputs": [
    {
     "name": "stdout",
     "output_type": "stream",
     "text": [
      "[1, 2, 3, 4]\n",
      "[1, 2, 3]\n",
      "[2, 3]\n"
     ]
    }
   ],
   "source": [
    "numbers = []\n",
    "numbers.append(1)\n",
    "numbers.append(2)\n",
    "numbers.append(3)\n",
    "numbers.append(4)\n",
    "print(numbers)\n",
    "numbers.pop()  # pop remove last element \n",
    "print(numbers)\n",
    "numbers.pop(0) # pop(0) remove first element \n",
    "print(numbers)"
   ]
  },
  {
   "cell_type": "code",
   "execution_count": 1,
   "metadata": {},
   "outputs": [
    {
     "name": "stdout",
     "output_type": "stream",
     "text": [
      "['Zero', 'Four', 'Five', 'Nine']\n"
     ]
    }
   ],
   "source": [
    "numbers = ['Zero','One','Two','Three','Four','Five','Six','Seven','Eight','Nine']\n",
    "numbers_length_four=[]\n",
    "for number in numbers:\n",
    "        if len(number)== 4:\n",
    "            numbers_length_four.append(number) \n",
    "print(numbers_length_four)"
   ]
  },
  {
   "cell_type": "markdown",
   "metadata": {},
   "source": [
    "# List Comprehension :"
   ]
  },
  {
   "cell_type": "code",
   "execution_count": 6,
   "metadata": {},
   "outputs": [
    {
     "name": "stdout",
     "output_type": "stream",
     "text": [
      "['Zero', 'One', 'Two', 'Three', 'Four', 'Five', 'Six', 'Seven', 'Eight', 'Nine']\n"
     ]
    }
   ],
   "source": [
    "numbers_length_four = [number for number in numbers]\n",
    "print(numbers_length_four)"
   ]
  },
  {
   "cell_type": "code",
   "execution_count": 12,
   "metadata": {},
   "outputs": [
    {
     "name": "stdout",
     "output_type": "stream",
     "text": [
      "[4, 3, 3, 5, 4, 4, 3, 5, 5, 4]\n"
     ]
    }
   ],
   "source": [
    "numbers_length_four = [len(number) for number in numbers]\n",
    "print(numbers_length_four)"
   ]
  },
  {
   "cell_type": "code",
   "execution_count": 14,
   "metadata": {},
   "outputs": [
    {
     "name": "stdout",
     "output_type": "stream",
     "text": [
      "['ZERO', 'ONE', 'TWO', 'THREE', 'FOUR', 'FIVE', 'SIX', 'SEVEN', 'EIGHT', 'NINE']\n"
     ]
    }
   ],
   "source": [
    "numbers_length_four = [number.upper() for number in numbers]\n",
    "print(numbers_length_four)"
   ]
  },
  {
   "cell_type": "code",
   "execution_count": 13,
   "metadata": {},
   "outputs": [
    {
     "name": "stdout",
     "output_type": "stream",
     "text": [
      "[4, 4, 4, 4]\n"
     ]
    }
   ],
   "source": [
    "numbers_length_four = [len(number) for number in numbers if len(number)==4]\n",
    "print(numbers_length_four)"
   ]
  },
  {
   "cell_type": "code",
   "execution_count": 16,
   "metadata": {},
   "outputs": [
    {
     "name": "stdout",
     "output_type": "stream",
     "text": [
      "['Zero', 'Four', 'Five', 'Nine']\n"
     ]
    }
   ],
   "source": [
    "numbers_length_four = [number for number in numbers if len(number)==4]\n",
    "print(numbers_length_four)"
   ]
  },
  {
   "cell_type": "code",
   "execution_count": 17,
   "metadata": {},
   "outputs": [
    {
     "name": "stdout",
     "output_type": "stream",
     "text": [
      "[6, 4, 6]\n"
     ]
    }
   ],
   "source": [
    "values = [3, 6, 9, 1, 4, 15, 6, 3]\n",
    "values_even = [value for value in values if value%2==0]\n",
    "print(values_even)"
   ]
  },
  {
   "cell_type": "code",
   "execution_count": 18,
   "metadata": {},
   "outputs": [
    {
     "name": "stdout",
     "output_type": "stream",
     "text": [
      "[3, 9, 1, 15, 3]\n"
     ]
    }
   ],
   "source": [
    "values_odd = [value for value in values if value%2==1]\n",
    "print(values_odd)"
   ]
  },
  {
   "cell_type": "markdown",
   "metadata": {},
   "source": [
    "# Set :"
   ]
  },
  {
   "cell_type": "code",
   "execution_count": 22,
   "metadata": {},
   "outputs": [
    {
     "name": "stdout",
     "output_type": "stream",
     "text": [
      "[1, 2, 3, 2, 1]\n",
      "{1, 2, 3}\n"
     ]
    }
   ],
   "source": [
    "# To remove duplicate we have to use set\n",
    "numbers = [1,2,3,2,1]\n",
    "print(numbers)\n",
    "numbers_set = set(numbers)\n",
    "print(numbers_set)"
   ]
  },
  {
   "cell_type": "markdown",
   "metadata": {},
   "source": [
    "# Dictionary :"
   ]
  },
  {
   "cell_type": "code",
   "execution_count": 3,
   "metadata": {},
   "outputs": [
    {
     "name": "stdout",
     "output_type": "stream",
     "text": [
      "{0, 1, 2, 3, 4}\n",
      "{1, 2, 3, 4}\n",
      "{'a': 5, 'b': 6, 'c': 8, 'd': 10}\n"
     ]
    },
    {
     "data": {
      "text/plain": [
       "True"
      ]
     },
     "execution_count": 3,
     "metadata": {},
     "output_type": "execute_result"
    }
   ],
   "source": [
    "numbers_set = {1, 2, 3, 4}\n",
    "numbers_set.add(0)\n",
    "print(numbers_set)\n",
    "numbers_set.remove(0) \n",
    "print(numbers_set)\n",
    "occurances = dict(a=5, b=6 ,c=8)\n",
    "occurances['d'] = 10\n",
    "print(occurances)\n",
    "1 in numbers_set"
   ]
  },
  {
   "cell_type": "markdown",
   "metadata": {},
   "source": [
    "# Dictionary Function :"
   ]
  },
  {
   "cell_type": "code",
   "execution_count": 7,
   "metadata": {},
   "outputs": [
    {
     "name": "stdout",
     "output_type": "stream",
     "text": [
      "1\n",
      "4\n",
      "10\n",
      "4\n",
      "10\n",
      "dict_keys(['a', 'b', 'c', 'd'])\n",
      "dict_values([5, 6, 8, 10])\n",
      "dict_items([('a', 5), ('b', 6), ('c', 8), ('d', 10)])\n"
     ]
    }
   ],
   "source": [
    "print(min(numbers_set))\n",
    "print(max(numbers_set))\n",
    "print(sum(numbers_set))\n",
    "print(len(numbers_set))\n",
    "print(occurances.get('d'))\n",
    "print(occurances.keys())\n",
    "print(occurances.values())\n",
    "print(occurances.items())"
   ]
  },
  {
   "cell_type": "code",
   "execution_count": 34,
   "metadata": {},
   "outputs": [
    {
     "name": "stdout",
     "output_type": "stream",
     "text": [
      "[1, 2, 3, 4, 5]\n"
     ]
    }
   ],
   "source": [
    "numbers_1_to_5_set = list(range(1,6))\n",
    "print(numbers_1_to_5_set)"
   ]
  },
  {
   "cell_type": "code",
   "execution_count": 36,
   "metadata": {},
   "outputs": [
    {
     "name": "stdout",
     "output_type": "stream",
     "text": [
      "{1, 2, 3, 4, 5}\n",
      "{4, 5, 6, 7, 8, 9, 10}\n"
     ]
    }
   ],
   "source": [
    "numbers_1_to_5_set = set(range(1,6))\n",
    "print(numbers_1_to_5_set)\n",
    "numbers_4_to_10_set = set(range(4,11))\n",
    "print(numbers_4_to_10_set)"
   ]
  },
  {
   "cell_type": "code",
   "execution_count": 41,
   "metadata": {},
   "outputs": [
    {
     "name": "stdout",
     "output_type": "stream",
     "text": [
      "{1, 2, 3, 4, 5, 6, 7, 8, 9, 10}\n",
      "{1, 2, 3}\n",
      "{6, 7, 8, 9, 10}\n"
     ]
    }
   ],
   "source": [
    "print(numbers_1_to_5_set | numbers_4_to_10_set ) # for and use | for union\n",
    "print(numbers_1_to_5_set - numbers_4_to_10_set)  # for minus\n",
    "print(numbers_4_to_10_set - numbers_1_to_5_set )"
   ]
  },
  {
   "cell_type": "markdown",
   "metadata": {},
   "source": [
    "# Loop Through Dictionary Items:"
   ]
  },
  {
   "cell_type": "code",
   "execution_count": 8,
   "metadata": {},
   "outputs": [
    {
     "name": "stdout",
     "output_type": "stream",
     "text": [
      "a 5\n",
      "b 6\n",
      "c 8\n",
      "d 10\n"
     ]
    }
   ],
   "source": [
    "for (key,value) in occurances.items():\n",
    "        print(f\"{key} {value}\")"
   ]
  },
  {
   "cell_type": "markdown",
   "metadata": {},
   "source": [
    "# Dictionary Comprehension :"
   ]
  },
  {
   "cell_type": "code",
   "execution_count": 9,
   "metadata": {},
   "outputs": [
    {
     "name": "stdout",
     "output_type": "stream",
     "text": [
      "[1, 4, 9, 16, 25, 36, 49, 64, 81, 100]\n"
     ]
    }
   ],
   "source": [
    "str = \"This is an awesome occasion. This has never happened before.\"\n",
    "squares_first_ten_numbers = [ i*i for i in range(1,11)]\n",
    "print(squares_first_ten_numbers)"
   ]
  },
  {
   "cell_type": "markdown",
   "metadata": {},
   "source": [
    "# Types:"
   ]
  },
  {
   "cell_type": "code",
   "execution_count": 2,
   "metadata": {},
   "outputs": [
    {
     "name": "stdout",
     "output_type": "stream",
     "text": [
      "<class 'list'>\n",
      "<class 'dict'>\n",
      "<class 'set'>\n",
      "<class 'set'>\n",
      "<class 'dict'>\n",
      "<class 'tuple'>\n"
     ]
    }
   ],
   "source": [
    "print(type([]))\n",
    "print(type({}))\n",
    "print(type(set()))\n",
    "print(type({1}))s\n",
    "print( type({'A':5}))\n",
    "print(type(()))"
   ]
  }
 ],
 "metadata": {
  "kernelspec": {
   "display_name": "Python 3",
   "language": "python",
   "name": "python3"
  },
  "language_info": {
   "codemirror_mode": {
    "name": "ipython",
    "version": 3
   },
   "file_extension": ".py",
   "mimetype": "text/x-python",
   "name": "python",
   "nbconvert_exporter": "python",
   "pygments_lexer": "ipython3",
   "version": "3.6.4"
  }
 },
 "nbformat": 4,
 "nbformat_minor": 2
}
