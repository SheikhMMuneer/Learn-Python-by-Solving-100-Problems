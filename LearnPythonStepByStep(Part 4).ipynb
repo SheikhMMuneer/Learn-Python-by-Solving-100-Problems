{
 "cells": [
  {
   "cell_type": "markdown",
   "metadata": {},
   "source": [
    "# Advanced Object Oriented Programming :"
   ]
  },
  {
   "cell_type": "code",
   "execution_count": 5,
   "metadata": {},
   "outputs": [],
   "source": [
    "class LandAnimal:\n",
    "    def __init__(self):\n",
    "             super().__init__()\n",
    "             self.walking_speed = 5\n",
    "    def increase_walking_speed(self, how_much):\n",
    "        self.walking_speed += how_much"
   ]
  },
  {
   "cell_type": "code",
   "execution_count": 6,
   "metadata": {},
   "outputs": [],
   "source": [
    "class WaterAnimal:\n",
    "    def __init__(self):\n",
    "        super().__init__()\n",
    "        self.swimming_speed = 10\n",
    "    def increase_swimming_speed(self, how_much):\n",
    "        self.swimming_speed += how_much"
   ]
  },
  {
   "cell_type": "code",
   "execution_count": 7,
   "metadata": {},
   "outputs": [
    {
     "name": "stdout",
     "output_type": "stream",
     "text": [
      "35\n",
      "55\n"
     ]
    }
   ],
   "source": [
    "class Amphibian(WaterAnimal, LandAnimal):\n",
    "    def __init__(self):\n",
    "        super().__init__()            \n",
    "amphibian = Amphibian()\n",
    "amphibian.increase_swimming_speed(25)\n",
    "amphibian.increase_walking_speed(50)\n",
    "print(amphibian.swimming_speed)\n",
    "print(amphibian.walking_speed)"
   ]
  },
  {
   "cell_type": "markdown",
   "metadata": {},
   "source": [
    "# Abstract Class:"
   ]
  },
  {
   "cell_type": "code",
   "execution_count": 12,
   "metadata": {},
   "outputs": [
    {
     "name": "stdout",
     "output_type": "stream",
     "text": [
      "Bow Bow\n",
      "None\n"
     ]
    }
   ],
   "source": [
    "from abc import ABC, abstractmethod\n",
    "class AbstractAnimal(ABC):\n",
    "    @abstractmethod\n",
    "    def bark(self): pass\n",
    "    \n",
    "class Dog(AbstractAnimal):\n",
    "    def bark(self):\n",
    "        print(\"Bow Bow\")\n",
    "    \n",
    "print(Dog().bark())"
   ]
  },
  {
   "cell_type": "code",
   "execution_count": 1,
   "metadata": {},
   "outputs": [],
   "source": [
    "class Book(object):\n",
    "    def __init__(self, id, name, author):\n",
    "        self.id = id\n",
    "        self.name =name\n",
    "        self.author = author\n",
    "        self.reviews = []\n",
    "        \n",
    "    def __repr__(self):\n",
    "        return repr((self.id,self.name,self.author,self.reviews))\n",
    "    \n",
    "    def add_review(self, review):\n",
    "        self.reviews.append(review)"
   ]
  },
  {
   "cell_type": "code",
   "execution_count": 3,
   "metadata": {},
   "outputs": [
    {
     "name": "stdout",
     "output_type": "stream",
     "text": [
      "(123, 'Object Oriented Programming with Python', 'Ranga', [(10, 'Great Book', 5), (101, 'Awesome', 5)])\n"
     ]
    }
   ],
   "source": [
    "class Review:\n",
    "    def __init__(self, id, description, rating):\n",
    "            self.id = id\n",
    "            self.description = description\n",
    "            self.rating = rating\n",
    "            \n",
    "    def __repr__(self):\n",
    "        return repr((self.id,self.description,self.rating))\n",
    "    \n",
    "book = Book(123, 'Object Oriented Programming with Python','Ranga')\n",
    "# book.add_review()\n",
    "book.add_review(Review(10, \"Great Book\", 5))\n",
    "book.add_review(Review(101, \"Awesome\", 5))\n",
    "print(book)"
   ]
  },
  {
   "cell_type": "code",
   "execution_count": 4,
   "metadata": {},
   "outputs": [
    {
     "name": "stdout",
     "output_type": "stream",
     "text": [
      "('Manufacturer 1', 5, 'Green', 3, True)\n",
      "('Manufacturer 1', 5, 'Green', 0, False)\n"
     ]
    }
   ],
   "source": [
    " class Fan:\n",
    "        def __init__(self, make, radius, color):\n",
    "                self.make = make\n",
    "                self.radius = radius\n",
    "                self.color = color\n",
    "                self.speed = 0\n",
    "                self.is_on = False\n",
    "                \n",
    "        def __repr__(self):\n",
    "            return repr((self.make,self.radius,self.color,self.speed,self.is_on))\n",
    "        \n",
    "        def switch_on(self):\n",
    "            self.is_on = True\n",
    "            self.speed = 3\n",
    "            \n",
    "        def switch_off(self):\n",
    "            self.is_on = False\n",
    "            self.speed = 0\n",
    "            \n",
    "# increase_speed\n",
    "# decrease_speed\n",
    "fan = Fan('Manufacturer 1', 5, 'Green')\n",
    "fan.switch_on()\n",
    "print(fan)\n",
    "fan.switch_off()\n",
    "print(fan)"
   ]
  },
  {
   "cell_type": "code",
   "execution_count": 9,
   "metadata": {},
   "outputs": [],
   "source": [
    "class Person:\n",
    "    def __init__(self,name,email):\n",
    "        self.name = name\n",
    "        self.email = email        \n",
    "    def __repr__(self):             \n",
    "        return repr((self.name,self.email))"
   ]
  },
  {
   "cell_type": "code",
   "execution_count": 12,
   "metadata": {},
   "outputs": [
    {
     "name": "stdout",
     "output_type": "stream",
     "text": [
      "('Ranga', 'in28minutes@gmail.com')\n"
     ]
    }
   ],
   "source": [
    "class Student(Person):\n",
    "    def __init__(self, name, email, college, cls):\n",
    "            super().__init__(name,email)\n",
    "            self.college = college\n",
    "            self.cls = cls    \n",
    "            \n",
    "    def __repr__(self):\n",
    "        return repr((super().__repr__(),self.college,self.cls))\n",
    "    \n",
    "person = Person('Ranga','in28minutes@gmail.com')\n",
    "print(person)\n",
    "student = Student('Ranga','in28minutes@gmail.com','Stanford', 'Algorithms')"
   ]
  },
  {
   "cell_type": "code",
   "execution_count": 20,
   "metadata": {},
   "outputs": [],
   "source": [
    "from abc import ABC, abstractmethod\n",
    "class AbstractRecipe(ABC):\n",
    "    def execute(self):\n",
    "            self.prepare()\n",
    "            self.recipe()\n",
    "            self.cleanup()\n",
    "    \n",
    "    @abstractmethod\n",
    "    def prepare(self): pass    \n",
    "    @abstractmethod\n",
    "    def recipe(self): pass    \n",
    "    @abstractmethod\n",
    "    def cleanup(self): pass"
   ]
  },
  {
   "cell_type": "code",
   "execution_count": 21,
   "metadata": {},
   "outputs": [],
   "source": [
    "class Recipe1(AbstractRecipe):\n",
    "    def prepare(self):\n",
    "            print('do the dishes')\n",
    "            print('get raw materials')\n",
    "    def recipe(self):\n",
    "        print('execute the steps')        \n",
    "    def cleanup(self): pass"
   ]
  },
  {
   "cell_type": "code",
   "execution_count": 22,
   "metadata": {},
   "outputs": [
    {
     "name": "stdout",
     "output_type": "stream",
     "text": [
      "do the dishes\n",
      "get raw materials\n",
      "switch on microwave\n",
      "execute the steps\n",
      "switch off microwave\n"
     ]
    }
   ],
   "source": [
    "class MicrowaveRecipe(AbstractRecipe):\n",
    "    def prepare(self):\n",
    "            print('do the dishes')\n",
    "            print('get raw materials')\n",
    "            print('switch on microwave')\n",
    "    def recipe(self):\n",
    "        print('execute the steps')\n",
    "        \n",
    "    def cleanup(self):\n",
    "        print('switch off microwave')\n",
    "MicrowaveRecipe().execute()"
   ]
  },
  {
   "cell_type": "code",
   "execution_count": 25,
   "metadata": {},
   "outputs": [
    {
     "name": "stdout",
     "output_type": "stream",
     "text": [
      "bark\n"
     ]
    }
   ],
   "source": [
    "class Animal:\n",
    "        def bark(self):\n",
    "             print(\"bark\")\n",
    "animal = Animal()\n",
    "animal.bark()"
   ]
  },
  {
   "cell_type": "code",
   "execution_count": 28,
   "metadata": {},
   "outputs": [
    {
     "name": "stdout",
     "output_type": "stream",
     "text": [
      "bark\n",
      "groom\n"
     ]
    }
   ],
   "source": [
    "class Pet:\n",
    "    def bark(self):\n",
    "        print(\"bark\")\n",
    "    def groom(self):\n",
    "        print(\"groom1\")\n",
    "pet = Pet()\n",
    "pet.bark()\n",
    "pet.groom()"
   ]
  },
  {
   "cell_type": "code",
   "execution_count": 30,
   "metadata": {},
   "outputs": [
    {
     "name": "stdout",
     "output_type": "stream",
     "text": [
      "groom2\n"
     ]
    }
   ],
   "source": [
    "class Pet(Animal):\n",
    "    def groom(self):\n",
    "        print(\"groom2\")\n",
    "dog = Pet()\n",
    "dog.groom()"
   ]
  },
  {
   "cell_type": "markdown",
   "metadata": {},
   "source": [
    "# Error Handling:"
   ]
  },
  {
   "cell_type": "code",
   "execution_count": 37,
   "metadata": {},
   "outputs": [],
   "source": [
    "class CurrenciesDoNotMatchError(Exception):\n",
    "    def __init__(self,message):\n",
    "         super().__init__(message)      \n"
   ]
  },
  {
   "cell_type": "code",
   "execution_count": 6,
   "metadata": {},
   "outputs": [
    {
     "name": "stdout",
     "output_type": "stream",
     "text": [
      "('USD', 20)\n",
      "('INR', 30)\n"
     ]
    }
   ],
   "source": [
    "class Currency:\n",
    "    def __init__(self, currency, amount):\n",
    "            self.currency = currency\n",
    "            self.amount =amount            \n",
    "    def __repr__(self):\n",
    "        return repr((self.currency,self.amount))\n",
    "    \n",
    "    def __add__(self, other):\n",
    "        if self.currency != other.currency:\n",
    "            raise CurrenciesDoNotMatchError(self.currency +\" \" + other.currency)\n",
    "            \n",
    "        total_amount = self.amount + other.amount\n",
    "        return Currency(self.currency, total_amount)\n",
    "    \n",
    "value1 = Currency(\"USD\", 20)\n",
    "value2 = Currency(\"INR\", 30)\n",
    "print(value1)\n",
    "print(value2)\n",
    "#print(value1 + value2)"
   ]
  },
  {
   "cell_type": "code",
   "execution_count": 7,
   "metadata": {},
   "outputs": [
    {
     "name": "stdout",
     "output_type": "stream",
     "text": [
      "ZeroDivisionError\n",
      "Finally\n",
      "0\n",
      "End\n"
     ]
    }
   ],
   "source": [
    "try:\n",
    "    i = 0 # Not hardcoded, getting a input from user\n",
    "    j = 10/i\n",
    "    values = [1,2]\n",
    "    sum(values)\n",
    "except TypeError:\n",
    "    print(\"TypeError\")\n",
    "    j = 10\n",
    "except ZeroDivisionError:\n",
    "    print(\"ZeroDivisionError\")\n",
    "    j = 0\n",
    "except:\n",
    "    print(\"OtherError\")\n",
    "    j = 5\n",
    "else:\n",
    "    print(\"Else\")\n",
    "finally: \n",
    "    print(\"Finally\")\n",
    "print(j)\n",
    "print(\"End\")"
   ]
  },
  {
   "cell_type": "code",
   "execution_count": 11,
   "metadata": {},
   "outputs": [
    {
     "name": "stdout",
     "output_type": "stream",
     "text": [
      "ZeroDivisionError\n",
      "End\n"
     ]
    }
   ],
   "source": [
    "try:\n",
    "    10/0\n",
    "except TypeError:\n",
    "    print(\"TypeError\")\n",
    "except ZeroDivisionError:\n",
    "    print(\"ZeroDivisionError\")\n",
    "print(\"End\")"
   ]
  },
  {
   "cell_type": "code",
   "execution_count": 14,
   "metadata": {},
   "outputs": [
    {
     "name": "stdout",
     "output_type": "stream",
     "text": [
      "ZeroDivisionError\n",
      "End\n"
     ]
    }
   ],
   "source": [
    "try:\n",
    "    10/0\n",
    "except BaseException:\n",
    "    print(\"ZeroDivisionError\")\n",
    " # catching classes that do not inherit from BaseException is not allowed\n",
    "print(\"End\")"
   ]
  },
  {
   "cell_type": "code",
   "execution_count": 15,
   "metadata": {},
   "outputs": [
    {
     "name": "stdout",
     "output_type": "stream",
     "text": [
      "Exception\n"
     ]
    }
   ],
   "source": [
    " try:\n",
    "    10/0 \n",
    "except Exception:\n",
    "    print(\"Exception\")"
   ]
  },
  {
   "cell_type": "code",
   "execution_count": 22,
   "metadata": {},
   "outputs": [
    {
     "name": "stdout",
     "output_type": "stream",
     "text": [
      "Exception\n",
      "End\n"
     ]
    }
   ],
   "source": [
    "try: \n",
    "    sum([1, '1'])\n",
    "except (ZeroDivisionError, TypeError): \n",
    "    print(\"Exception\")\n",
    "print(\"End\")"
   ]
  },
  {
   "cell_type": "code",
   "execution_count": 20,
   "metadata": {},
   "outputs": [
    {
     "name": "stdout",
     "output_type": "stream",
     "text": [
      "unsupported operand type(s) for +: 'int' and 'str'\n",
      "End\n"
     ]
    }
   ],
   "source": [
    "try:\n",
    "    sum([1,'1'])\n",
    "except TypeError as error:\n",
    "    print(error)\n",
    "print(\"End\")"
   ]
  }
 ],
 "metadata": {
  "kernelspec": {
   "display_name": "Python 3",
   "language": "python",
   "name": "python3"
  },
  "language_info": {
   "codemirror_mode": {
    "name": "ipython",
    "version": 3
   },
   "file_extension": ".py",
   "mimetype": "text/x-python",
   "name": "python",
   "nbconvert_exporter": "python",
   "pygments_lexer": "ipython3",
   "version": "3.6.4"
  }
 },
 "nbformat": 4,
 "nbformat_minor": 2
}
