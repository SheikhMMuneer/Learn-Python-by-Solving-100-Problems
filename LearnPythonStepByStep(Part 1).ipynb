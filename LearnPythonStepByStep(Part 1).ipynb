{
 "cells": [
  {
   "cell_type": "markdown",
   "metadata": {},
   "source": [
    "# Basics of Python :"
   ]
  },
  {
   "cell_type": "code",
   "execution_count": 18,
   "metadata": {},
   "outputs": [
    {
     "name": "stdout",
     "output_type": "stream",
     "text": [
      "30\n",
      "1000\n",
      "86400\n",
      "35\n",
      "1\n",
      "6\n",
      "1\n"
     ]
    }
   ],
   "source": [
    "print(5+5*5)\n",
    "# this means 10 * 10 10 or (10)3\n",
    "print(10 ** 3)\n",
    "print(24 * 60 * 60)\n",
    "print(5 + 5 * 6)\n",
    "print(5 - 2 * 2)\n",
    "print((5 - 2) * 2)\n",
    "print(5 - ( 2 * 2 ))"
   ]
  },
  {
   "cell_type": "code",
   "execution_count": 19,
   "metadata": {},
   "outputs": [
    {
     "name": "stdout",
     "output_type": "stream",
     "text": [
      "Hello\n",
      "Hello\n",
      "World\n",
      "Hello\\World\n",
      "Hello\\\\\\World\n",
      "Hello\"\n",
      "Hello'World\n",
      "Hello\"World\n",
      "\n",
      "VALUE = 10\n",
      "VALUE = 20\n",
      "5 * 6 = 30\n",
      "5 * 6 = 30\n",
      "5 * 3 = 15\n",
      "My name is Munir Sheikh\n",
      "\n",
      "\n",
      "5 * 6 = 30\n",
      "5*6\n",
      "5*6\n",
      "5*6= 30\n",
      "value of a is 15 and b is 30 and sum is 45\n",
      "\n",
      "\n",
      "10.5\n",
      "32\n",
      "67\n",
      "34\n"
     ]
    }
   ],
   "source": [
    "print(\"Hello\")\n",
    "print(\"Hello\\nWorld\")\n",
    "print(\"Hello\\\\World\")\n",
    "print(\"Hello\\\\\\\\\\\\World\")\n",
    "print('Hello\"')\n",
    "print(\"Hello'World\")\n",
    "print(\"Hello\\\"World\\n\")\n",
    "\n",
    "#Format Specifier\n",
    "print(\"VALUE = {0}\".format(5*2))\n",
    "print(\"VALUE = {1}\".format(10,20,30))\n",
    "print(\"5 * 6 = {2}\".format(5,6,5*6))\n",
    "print(\"{0} * {1} = {2}\".format(5,6,5*6))\n",
    "index = 3\n",
    "print(\"{0} * {1} = {2}\".format(5,index,5*index))\n",
    "print(\"My name is {0}\".format(\"Munir Sheikh\"))\n",
    "\n",
    "\n",
    "\n",
    "#You can use single or double quotes\n",
    "print(\"\\n\")\n",
    "print(\"5 * 6 = 30\")\n",
    "print(\"5*6\")\n",
    "print('5*6')\n",
    "print(\"5*6=\" ,5*6)\n",
    "a = 15\n",
    "b = 30\n",
    "print(f\"value of a is {a} and b is {b} and sum is {a+b}\")\n",
    "\n",
    "\n",
    "\n",
    "\n",
    "#use Mathematical function\n",
    "print(\"\\n\")\n",
    "print(abs(10.5))\n",
    "print(pow(2,5))\n",
    "print(max(34, 45, 67))\n",
    "print(min(34, 45, 67))"
   ]
  },
  {
   "cell_type": "markdown",
   "metadata": {},
   "source": [
    "# Range:"
   ]
  },
  {
   "cell_type": "code",
   "execution_count": 20,
   "metadata": {},
   "outputs": [
    {
     "name": "stdout",
     "output_type": "stream",
     "text": [
      "5 * 1 = 5\n",
      "5 * 2 = 10\n",
      "5 * 3 = 15\n",
      "5 * 4 = 20\n",
      "5 * 5 = 25\n",
      "5 * 6 = 30\n",
      "5 * 7 = 35\n",
      "5 * 8 = 40\n",
      "5 * 9 = 45\n",
      "5 * 10 = 50\n"
     ]
    }
   ],
   "source": [
    " for i in range(1,11):\n",
    "       # print(\"{0} * {1} = {2}\".format(5,i,5*i))\n",
    "        print(f\"{5} * {i} = {5*i}\")"
   ]
  },
  {
   "cell_type": "code",
   "execution_count": 21,
   "metadata": {},
   "outputs": [
    {
     "name": "stdout",
     "output_type": "stream",
     "text": [
      "1\n",
      "3\n",
      "5\n",
      "7\n",
      "9\n"
     ]
    }
   ],
   "source": [
    "for i in range(1,11,2):\n",
    "              print(f\"{i}\")\n",
    "# range of 1 to 11 and gap of 2  even number"
   ]
  },
  {
   "cell_type": "code",
   "execution_count": 22,
   "metadata": {},
   "outputs": [
    {
     "name": "stdout",
     "output_type": "stream",
     "text": [
      "2\n",
      "4\n",
      "6\n",
      "8\n",
      "10\n"
     ]
    }
   ],
   "source": [
    "for i in range(2,11,2):\n",
    "              print(f\"{i}\")\n",
    "# range of 2 to 11 and gap of 2 odd number"
   ]
  },
  {
   "cell_type": "code",
   "execution_count": 23,
   "metadata": {},
   "outputs": [
    {
     "name": "stdout",
     "output_type": "stream",
     "text": [
      "10\n",
      "9\n",
      "8\n",
      "7\n",
      "6\n",
      "5\n",
      "4\n",
      "3\n",
      "2\n",
      "1\n"
     ]
    }
   ],
   "source": [
    "for i in range(10,0,-1):\n",
    "              print(f\"{i}\")\n",
    "# range of 10 to 0 and gap of -1  number"
   ]
  },
  {
   "cell_type": "code",
   "execution_count": 24,
   "metadata": {},
   "outputs": [
    {
     "name": "stdout",
     "output_type": "stream",
     "text": [
      "1\n",
      "4\n",
      "9\n",
      "16\n",
      "25\n",
      "36\n",
      "49\n",
      "64\n",
      "81\n",
      "100\n"
     ]
    }
   ],
   "source": [
    " for i in range (1,11):\n",
    "        print(i * i)\n",
    " # Number multiply by itself       "
   ]
  },
  {
   "cell_type": "code",
   "execution_count": 25,
   "metadata": {},
   "outputs": [
    {
     "name": "stdout",
     "output_type": "stream",
     "text": [
      "100\n",
      "81\n",
      "64\n",
      "49\n",
      "36\n",
      "25\n",
      "16\n",
      "9\n",
      "4\n",
      "1\n"
     ]
    }
   ],
   "source": [
    " for i in range (10,0,-1):\n",
    "        print(i * i)\n",
    " # Number multiply by itself in reverse   "
   ]
  },
  {
   "cell_type": "markdown",
   "metadata": {},
   "source": [
    "# Functions :"
   ]
  },
  {
   "cell_type": "code",
   "execution_count": 26,
   "metadata": {},
   "outputs": [],
   "source": [
    " def print_hello_world_twice():\n",
    "        print(\"Hello World\")\n",
    "        print(\"Hello World\")"
   ]
  },
  {
   "cell_type": "code",
   "execution_count": 27,
   "metadata": {},
   "outputs": [
    {
     "name": "stdout",
     "output_type": "stream",
     "text": [
      "Hello World\n",
      "Hello World\n"
     ]
    }
   ],
   "source": [
    "print_hello_world_twice()"
   ]
  },
  {
   "cell_type": "code",
   "execution_count": 28,
   "metadata": {},
   "outputs": [],
   "source": [
    "# for giving default value\n",
    "def print_user_Parameter(p_name=\"Sadiq\"):\n",
    "#def print_user_Parameter(p_name):\n",
    "        #print(\"My name is\",p_name)  \n",
    "        # we can use format as well for variables\n",
    "        # print(\"My name is {0} \".format(p_name))\n",
    "        print(f\"My name is {p_name}\")"
   ]
  },
  {
   "cell_type": "code",
   "execution_count": 29,
   "metadata": {},
   "outputs": [
    {
     "name": "stdout",
     "output_type": "stream",
     "text": [
      "My name is Muneer\n"
     ]
    }
   ],
   "source": [
    "print_user_Parameter(\"Muneer\")"
   ]
  },
  {
   "cell_type": "code",
   "execution_count": 38,
   "metadata": {},
   "outputs": [],
   "source": [
    "# in Python we have to give default values to all Parameters\n",
    "def print_table(table=7,start=1,end=9):  \n",
    "    for i in range(start,end+1):\n",
    "        # We can store value in variable\n",
    "        result = \"{0} * {1} = {2} \".format(table,i,(table*i))\n",
    "        print(result)"
   ]
  },
  {
   "cell_type": "code",
   "execution_count": 31,
   "metadata": {},
   "outputs": [
    {
     "name": "stdout",
     "output_type": "stream",
     "text": [
      "6 * 1 = 6 \n",
      "6 * 2 = 12 \n",
      "6 * 3 = 18 \n",
      "6 * 4 = 24 \n",
      "6 * 5 = 30 \n",
      "6 * 6 = 36 \n",
      "6 * 7 = 42 \n",
      "6 * 8 = 48 \n",
      "6 * 9 = 54 \n"
     ]
    }
   ],
   "source": [
    "#sprint_table(5,8)\n",
    "print_table(table=6)"
   ]
  },
  {
   "cell_type": "markdown",
   "metadata": {},
   "source": [
    "# Indention :"
   ]
  },
  {
   "cell_type": "code",
   "execution_count": 32,
   "metadata": {},
   "outputs": [],
   "source": [
    "def method_to_understand_indentation():\n",
    "    for i in range(1,) :       \n",
    "        print(i)    \n",
    "        print(4)"
   ]
  },
  {
   "cell_type": "code",
   "execution_count": 33,
   "metadata": {},
   "outputs": [
    {
     "name": "stdout",
     "output_type": "stream",
     "text": [
      "1\n",
      "4\n",
      "2\n",
      "4\n",
      "3\n",
      "4\n",
      "4\n",
      "4\n",
      "5\n",
      "4\n"
     ]
    }
   ],
   "source": [
    "method_to_understand_indentation()"
   ]
  },
  {
   "cell_type": "markdown",
   "metadata": {},
   "source": [
    "# Function with Return Statement :"
   ]
  },
  {
   "cell_type": "code",
   "execution_count": 36,
   "metadata": {},
   "outputs": [],
   "source": [
    " def sum_of_three_numbers(a, b, c):\n",
    "        sum = a + b + c\n",
    "        return sum\n",
    "# It will return result or output"
   ]
  },
  {
   "cell_type": "code",
   "execution_count": 40,
   "metadata": {},
   "outputs": [
    {
     "name": "stdout",
     "output_type": "stream",
     "text": [
      "10\n"
     ]
    }
   ],
   "source": [
    "#sum_of_three_numbers(2,3,5)\n",
    "print(sum_of_three_numbers(2,3,5))"
   ]
  },
  {
   "cell_type": "markdown",
   "metadata": {},
   "source": [
    "# Getting Input from User:"
   ]
  },
  {
   "cell_type": "code",
   "execution_count": 44,
   "metadata": {},
   "outputs": [
    {
     "name": "stdout",
     "output_type": "stream",
     "text": [
      "Enter a Value: 98\n",
      "you entered  98  and Remaining value is  8\n",
      "<class 'int'>\n"
     ]
    }
   ],
   "source": [
    "value = input(\"Enter a Value: \")\n",
    "integer_value = int(value)\n",
    "result = integer_value % 10  # Modulus will act as Remainder\n",
    "print(\"you entered \", integer_value , \" and Remaining value is \", result)\n",
    "print(type(integer_value))  # It wil get Type of Variable"
   ]
  },
  {
   "cell_type": "markdown",
   "metadata": {},
   "source": [
    "# Increment and Decrement :"
   ]
  },
  {
   "cell_type": "code",
   "execution_count": 52,
   "metadata": {},
   "outputs": [
    {
     "name": "stdout",
     "output_type": "stream",
     "text": [
      "After Increment  2\n",
      "2\n",
      "Afrer Decrement  2\n"
     ]
    }
   ],
   "source": [
    "i = 1\n",
    "i = i+1\n",
    "print(\"After Increment \" ,i) \n",
    "#i += 1  \n",
    "++i   # in Python increment will bw ++i not i++ and --i\n",
    "print(i)  \n",
    "i-=1\n",
    "# i *=1\n",
    "print(\"Afrer Decrement \" ,i)"
   ]
  },
  {
   "cell_type": "markdown",
   "metadata": {},
   "source": [
    "# Variables and Types :"
   ]
  },
  {
   "cell_type": "code",
   "execution_count": 15,
   "metadata": {},
   "outputs": [
    {
     "name": "stdout",
     "output_type": "stream",
     "text": [
      "2.5\n",
      "2\n",
      "Power is 125\n",
      "125\n",
      "5\n",
      "6\n",
      "5.0\n"
     ]
    }
   ],
   "source": [
    "number1 = 5\n",
    "number2 = 2\n",
    "result_float = number1/number2\n",
    "result_without_float = number1//number2   # // will ignore decimal from result\n",
    "print(result_float)\n",
    "print(result_without_float)\n",
    "# Power will be denoted by ** or pow()\n",
    "print(\"Power is {0}\" .format(5**3))\n",
    "print(pow(5,3))\n",
    "cnt_int = int(5.6)\n",
    "rnd = round(5.6)\n",
    "flt =  float(5)\n",
    "print(cnt_int)\n",
    "print(rnd)\n",
    "print(flt)"
   ]
  }
 ],
 "metadata": {
  "kernelspec": {
   "display_name": "Python 3",
   "language": "python",
   "name": "python3"
  },
  "language_info": {
   "codemirror_mode": {
    "name": "ipython",
    "version": 3
   },
   "file_extension": ".py",
   "mimetype": "text/x-python",
   "name": "python",
   "nbconvert_exporter": "python",
   "pygments_lexer": "ipython3",
   "version": "3.6.4"
  }
 },
 "nbformat": 4,
 "nbformat_minor": 2
}
