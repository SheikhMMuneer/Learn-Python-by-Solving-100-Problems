{
 "cells": [
  {
   "cell_type": "markdown",
   "metadata": {},
   "source": [
    "Question 26 : Make a script that prints out numbers from 1 to 10.?"
   ]
  },
  {
   "cell_type": "code",
   "execution_count": 2,
   "metadata": {},
   "outputs": [
    {
     "name": "stdout",
     "output_type": "stream",
     "text": [
      "1\n",
      "2\n",
      "3\n",
      "4\n",
      "5\n",
      "6\n",
      "7\n",
      "8\n",
      "9\n",
      "10\n"
     ]
    }
   ],
   "source": [
    "for i in range(1,11):\n",
    "    print(i)\n",
    "#print(list(range(1,11)))    "
   ]
  },
  {
   "cell_type": "markdown",
   "metadata": {},
   "source": [
    "---"
   ]
  },
  {
   "cell_type": "markdown",
   "metadata": {},
   "source": [
    "Question 27 : Create a function that calculates acceleration?"
   ]
  },
  {
   "cell_type": "code",
   "execution_count": 3,
   "metadata": {},
   "outputs": [
    {
     "name": "stdout",
     "output_type": "stream",
     "text": [
      "0.5\n"
     ]
    }
   ],
   "source": [
    "def acceleration(v1, v2, t1, t2):\n",
    "    a = (v2 - v1) / (t2 - t1)\n",
    "    return a\n",
    "print(acceleration(0,10,0,20))"
   ]
  },
  {
   "cell_type": "markdown",
   "metadata": {},
   "source": [
    "---"
   ]
  },
  {
   "cell_type": "markdown",
   "metadata": {},
   "source": [
    "Question 28 :Why is there an error in the code and how would you fix it?\n",
    "\n",
    "def foo(a, b):\n",
    "\n",
    "    print(a + b)\n",
    "\n",
    "x = foo(2, 3) * 10"
   ]
  },
  {
   "cell_type": "code",
   "execution_count": 4,
   "metadata": {},
   "outputs": [
    {
     "name": "stdout",
     "output_type": "stream",
     "text": [
      "50\n"
     ]
    }
   ],
   "source": [
    "def foo(a, b):\n",
    "    return a + b\n",
    "x = foo(2, 3) * 10\n",
    "print(x)"
   ]
  },
  {
   "cell_type": "markdown",
   "metadata": {},
   "source": [
    "Explanation:\n",
    "\n",
    "Line 4 throws a TypeError because Python cannot multiply a None type object with an integer. The function output is what produces a None object because the function definition is not returning anything. Fix it by using return  instead of print :"
   ]
  },
  {
   "cell_type": "markdown",
   "metadata": {},
   "source": [
    "---"
   ]
  },
  {
   "cell_type": "markdown",
   "metadata": {},
   "source": [
    "Question 29 : Please write a function that calculates liquid volume in a sphere using the following formula. The radius r  is always 10, so consider making it a default parameter.\n",
    "\n",
    "Expected output:\n",
    "\n",
    "4071.5040790523717"
   ]
  },
  {
   "cell_type": "code",
   "execution_count": 5,
   "metadata": {},
   "outputs": [
    {
     "name": "stdout",
     "output_type": "stream",
     "text": [
      "4071.5040790523717\n"
     ]
    }
   ],
   "source": [
    "from math import pi\n",
    "def volume(h,r =10):\n",
    "    v = ((4 * pi * r**3)/3) - (pi * h**2  * (3 * r-h) /3)\n",
    "    return v\n",
    "print(volume(2))    "
   ]
  },
  {
   "cell_type": "markdown",
   "metadata": {},
   "source": [
    "---"
   ]
  },
  {
   "cell_type": "markdown",
   "metadata": {},
   "source": [
    "Question 30 : Why do you get an error and how would you fix it?\n",
    "\n",
    "def foo(a=2, b):\n",
    "\n",
    "    return a + b\n",
    "    \n",
    "Hint:\n",
    "Always put non default parameters first followed by default ones."
   ]
  },
  {
   "cell_type": "code",
   "execution_count": 8,
   "metadata": {},
   "outputs": [
    {
     "name": "stdout",
     "output_type": "stream",
     "text": [
      "4\n",
      "6\n"
     ]
    }
   ],
   "source": [
    "def foo(b,a=2):\n",
    "    return a + b\n",
    "print(foo(2))\n",
    "print(foo(2,4))"
   ]
  },
  {
   "cell_type": "markdown",
   "metadata": {},
   "source": [
    "---"
   ]
  },
  {
   "cell_type": "markdown",
   "metadata": {},
   "source": [
    "Question 31 :Why is there an error in the code and how would you fix it?\n",
    "\n",
    "def foo(a=1, b=2):\n",
    "    \n",
    "    return a + b\n",
    "\n",
    "x = foo - 1"
   ]
  },
  {
   "cell_type": "code",
   "execution_count": 9,
   "metadata": {},
   "outputs": [
    {
     "name": "stdout",
     "output_type": "stream",
     "text": [
      "2\n"
     ]
    }
   ],
   "source": [
    "def foo(a=1, b=2):\n",
    "    return a + b\n",
    "x = foo() - 1\n",
    "print(x)"
   ]
  },
  {
   "cell_type": "markdown",
   "metadata": {},
   "source": [
    "---"
   ]
  },
  {
   "cell_type": "markdown",
   "metadata": {},
   "source": [
    "Question 33 : What will the following script output? Please try to do this mentally if you can.\n",
    "\n",
    "c = 1\n",
    "\n",
    "def foo():\n",
    "\n",
    "    return c\n",
    "c = 3\n",
    "\n",
    "print(foo())"
   ]
  },
  {
   "cell_type": "code",
   "execution_count": 10,
   "metadata": {},
   "outputs": [
    {
     "name": "stdout",
     "output_type": "stream",
     "text": [
      "3\n"
     ]
    }
   ],
   "source": [
    "c = 1\n",
    "def foo():\n",
    "    return c\n",
    "c = 3\n",
    "print(foo())"
   ]
  },
  {
   "cell_type": "markdown",
   "metadata": {},
   "source": [
    "---"
   ]
  },
  {
   "cell_type": "markdown",
   "metadata": {},
   "source": [
    "Question 33 :   Here's another similar exercise. What will the following script output? Try to do this mentally if you can.\n",
    "\n",
    "c = 1\n",
    "\n",
    "def foo():\n",
    "\n",
    "    c = 2\n",
    "    return c\n",
    "    \n",
    "c = 3\n",
    "print(foo())"
   ]
  },
  {
   "cell_type": "code",
   "execution_count": 11,
   "metadata": {},
   "outputs": [
    {
     "name": "stdout",
     "output_type": "stream",
     "text": [
      "2\n"
     ]
    }
   ],
   "source": [
    "c = 1\n",
    "def foo():\n",
    "    c = 2  # This c will be called\n",
    "    return c\n",
    "c = 3 \n",
    "print(foo())"
   ]
  },
  {
   "cell_type": "markdown",
   "metadata": {},
   "source": [
    "---"
   ]
  },
  {
   "cell_type": "markdown",
   "metadata": {},
   "source": [
    "Question 34 : The following script throws a NameError  in the last line saying that c  is not defined. Please fix the function so that there is no error and the last line is able to print out the value of c  (i.e. 1 ).\n",
    "\n",
    "def foo(): \n",
    "\n",
    "    c = 1 \n",
    "    return c \n",
    "    \n",
    "foo() \n",
    "\n",
    "print(c)\n",
    "\n",
    "Expected output:\n",
    "\n",
    "1 "
   ]
  },
  {
   "cell_type": "code",
   "execution_count": 12,
   "metadata": {},
   "outputs": [
    {
     "name": "stdout",
     "output_type": "stream",
     "text": [
      "1\n"
     ]
    }
   ],
   "source": [
    "def foo(): \n",
    "    global c\n",
    "    c = 1 \n",
    "    return c \n",
    "foo() \n",
    "print(c)"
   ]
  },
  {
   "cell_type": "markdown",
   "metadata": {},
   "source": [
    "Explanation:\n",
    "\n",
    "\n",
    "Adding global c  fixes the code. That line makes available name c  in the global namespace. Therefore,  print is able to access variable c ."
   ]
  },
  {
   "cell_type": "markdown",
   "metadata": {},
   "source": [
    "---"
   ]
  },
  {
   "cell_type": "markdown",
   "metadata": {},
   "source": [
    "Question 35 : Create a function that takes any string as input and returns the number of words for that string.\n",
    "\n",
    "Hint 1: Convert the string to a list with split ."
   ]
  },
  {
   "cell_type": "code",
   "execution_count": 13,
   "metadata": {},
   "outputs": [
    {
     "name": "stdout",
     "output_type": "stream",
     "text": [
      "4\n"
     ]
    }
   ],
   "source": [
    "def count_words(strn): \n",
    "    strn_list = strn.split() \n",
    "    return len(strn_list) \n",
    " \n",
    "print(count_words(\"Hey there it's me!\"))"
   ]
  },
  {
   "cell_type": "markdown",
   "metadata": {},
   "source": [
    "---"
   ]
  },
  {
   "cell_type": "markdown",
   "metadata": {},
   "source": [
    "Question 36 :  Please download the words1.txt file from the attachment and then create a Python function that takes a text file as input and returns the number of words contained in the text file.\n",
    "\n",
    "Note: For the above script to work, you should have a file named words1.txt in the same directory with the Python script.\n",
    "\n",
    "Explanation:\n",
    "\n",
    "The function here takes as input a file path. If the file path is in the same directory with your Python script, you can simply pass in the file name as in the above script. If your text file is somewhere else, then you need to pass the full path when calling the function."
   ]
  },
  {
   "cell_type": "code",
   "execution_count": 14,
   "metadata": {},
   "outputs": [
    {
     "name": "stdout",
     "output_type": "stream",
     "text": [
      "14\n"
     ]
    }
   ],
   "source": [
    "def count_words(filepath):\n",
    "    with open(filepath, 'r') as file:   # for Reading of file\n",
    "        strng = file.read()\n",
    "        strng_list = strng.split(\" \")\n",
    "        return len(strng_list)\n",
    "\n",
    "print(count_words(\"F:/words.txt\"))"
   ]
  },
  {
   "cell_type": "markdown",
   "metadata": {},
   "source": [
    "---"
   ]
  },
  {
   "cell_type": "markdown",
   "metadata": {},
   "source": [
    "Question 37 :  Create a function that takes a text file as input and returns the number of words contained in the text file. Please take into consideration that some words can be separated by a comma with no space. For example \"Hi,it's me.\" would need to be counted as three words. For your convenience, you can use the text file in the attachment.\n",
    "\n",
    "Hint: You could replace all commas with spaces."
   ]
  },
  {
   "cell_type": "code",
   "execution_count": 15,
   "metadata": {},
   "outputs": [
    {
     "name": "stdout",
     "output_type": "stream",
     "text": [
      "14\n"
     ]
    }
   ],
   "source": [
    "def count_words(filepath):\n",
    "    with open(filepath, 'r') as file:\n",
    "        string = file.read()\n",
    "        string = string.replace(\",\", \" \")  # comm will be replace by space\n",
    "        string_list = string.split(\" \")\n",
    "        return len(string_list)\n",
    "\n",
    "print(count_words(\"F:/words.txt\"))"
   ]
  },
  {
   "cell_type": "code",
   "execution_count": 16,
   "metadata": {},
   "outputs": [
    {
     "name": "stdout",
     "output_type": "stream",
     "text": [
      "14\n"
     ]
    }
   ],
   "source": [
    "import re\n",
    "\n",
    "def count_words_re(filepath):\n",
    "    with open(filepath, 'r') as file:\n",
    "        string = file.read()\n",
    "        string_list = re.split(\",| \", string)\n",
    "        return len(string_list)\n",
    "\n",
    "print(count_words_re(\"F:/words.txt\"))"
   ]
  },
  {
   "cell_type": "markdown",
   "metadata": {},
   "source": [
    "Explanation 2:\n",
    "\n",
    "This alternative solution uses the built-in re  module which provides regular expression matching operations. We're using the split method of that module and the expression \",| \" is meant to replace commas with spaces. Using methods from the re  module can be more appropriate than Python built-in methods when string operations are complicated. However, for this simple scenario the re  module could be skipped."
   ]
  },
  {
   "cell_type": "markdown",
   "metadata": {},
   "source": [
    "---"
   ]
  },
  {
   "cell_type": "markdown",
   "metadata": {},
   "source": [
    "Question 38 : The following code is supposed to print out the square root of 9, but it throws an error instead because another line before that is missing. Please fix the script so that it prints out the square root of 9.\n",
    "\n",
    "math.sqrt(9) \n",
    "\n",
    "Expected output:\n",
    "\n",
    "3 "
   ]
  },
  {
   "cell_type": "code",
   "execution_count": 17,
   "metadata": {},
   "outputs": [
    {
     "data": {
      "text/plain": [
       "3.0"
      ]
     },
     "execution_count": 17,
     "metadata": {},
     "output_type": "execute_result"
    }
   ],
   "source": [
    "import math\n",
    "math.sqrt(9)"
   ]
  },
  {
   "cell_type": "markdown",
   "metadata": {},
   "source": [
    "---"
   ]
  },
  {
   "cell_type": "markdown",
   "metadata": {},
   "source": [
    "Question 39 : The script is supposed to output the cosine of angle 1 radian, but instead it is throwing an error. Please fix the code so that it prints out the expected output.\n",
    "\n",
    "import math\n",
    "\n",
    "print(math.cosine(1))\n",
    "\n",
    "Expected output:\n",
    "\n",
    "0.5403023058681397"
   ]
  },
  {
   "cell_type": "code",
   "execution_count": 18,
   "metadata": {},
   "outputs": [
    {
     "name": "stdout",
     "output_type": "stream",
     "text": [
      "0.5403023058681397\n"
     ]
    }
   ],
   "source": [
    "import math\n",
    "print(math.cos(1))"
   ]
  },
  {
   "cell_type": "markdown",
   "metadata": {},
   "source": [
    "---"
   ]
  },
  {
   "cell_type": "markdown",
   "metadata": {},
   "source": [
    "Question 40 : Please try to guess what is missing in the following code and add the missing part so that the code works fine.\n",
    "\n",
    "import math\n",
    "\n",
    "print(math.pow(2))"
   ]
  },
  {
   "cell_type": "code",
   "execution_count": 19,
   "metadata": {},
   "outputs": [
    {
     "name": "stdout",
     "output_type": "stream",
     "text": [
      "8.0\n",
      "8\n"
     ]
    }
   ],
   "source": [
    "import math\n",
    "print(math.pow(2,3))\n",
    "print(2**3)"
   ]
  },
  {
   "cell_type": "markdown",
   "metadata": {},
   "source": [
    "---"
   ]
  },
  {
   "cell_type": "markdown",
   "metadata": {},
   "source": [
    "Question 41 : Create a script that generates a text file with all letters of English alphabet inside it, one letter per line."
   ]
  },
  {
   "cell_type": "code",
   "execution_count": 20,
   "metadata": {},
   "outputs": [],
   "source": [
    "import string\n",
    "with open(\"letters.txt\", \"w\") as file:\n",
    "    for letter in string.ascii_lowercase:\n",
    "        file.write(letter + \"\\n\")"
   ]
  },
  {
   "cell_type": "markdown",
   "metadata": {},
   "source": [
    "Explanation:\n",
    "\n",
    "The ascii_lowercase   property of the string  module is quite helpful here to generate a string of all letters. Then we create a file and while the file is open, we iterate through the string and apply the write method in each iteration to write the letters in the text file. We are also appending \\n  to each letter which is a special character that creates break lines. That makes sure to separate the letters in different lines."
   ]
  },
  {
   "cell_type": "markdown",
   "metadata": {},
   "source": [
    "---"
   ]
  },
  {
   "cell_type": "markdown",
   "metadata": {},
   "source": [
    "Question 42 : Print out in each line the sum of homologous items of the two sequences.\n",
    "\n",
    "a = [1, 2, 3]\n",
    "\n",
    "b = (4, 5, 6)\n",
    "\n",
    "Expected output: \n",
    "\n",
    "5\n",
    "7\n",
    "9"
   ]
  },
  {
   "cell_type": "code",
   "execution_count": 21,
   "metadata": {},
   "outputs": [
    {
     "name": "stdout",
     "output_type": "stream",
     "text": [
      "5\n",
      "7\n",
      "9\n"
     ]
    }
   ],
   "source": [
    "a = [1, 2, 3]\n",
    "b = (4, 5, 6)\n",
    "for i,j in zip(a,b):\n",
    "    print(i+j)"
   ]
  },
  {
   "cell_type": "markdown",
   "metadata": {},
   "source": [
    "---"
   ]
  },
  {
   "cell_type": "markdown",
   "metadata": {},
   "source": [
    "Question 43 : Create a script that generates a file where all letters of English alphabet are listed two in each line. The inside of the text file would look like:\n",
    "\n",
    "ab\n",
    "cd\n",
    "ef\n",
    "\n",
    "and so on.\n",
    "\n",
    "Hint 1: Use the zip  function to iterate through two slices of the letters sequence. "
   ]
  },
  {
   "cell_type": "code",
   "execution_count": 22,
   "metadata": {},
   "outputs": [],
   "source": [
    "import string\n",
    "with open(\"lettersbytwo.txt\", \"w\") as file:\n",
    "    for letter1,letter2 in zip(string.ascii_lowercase[0::2],string.ascii_letters[1::2] ):      \n",
    "        file.write(letter1 + letter2 + \"\\n\")"
   ]
  },
  {
   "cell_type": "code",
   "execution_count": 23,
   "metadata": {},
   "outputs": [
    {
     "name": "stdout",
     "output_type": "stream",
     "text": [
      "acegikmoqsuwy\n",
      "bdfhjlnprtvxz\n"
     ]
    }
   ],
   "source": [
    "let1 = string.ascii_lowercase[0::2]  # start with zero eement with two element spaces\n",
    "print(let1)\n",
    "let2 = string.ascii_lowercase[1::2]  # start with zero eement with two element spaces\n",
    "print(let2)"
   ]
  },
  {
   "cell_type": "markdown",
   "metadata": {},
   "source": [
    "---"
   ]
  },
  {
   "cell_type": "markdown",
   "metadata": {},
   "source": [
    "Question 44 : Create a script that generates a file where all letters of English alphabet are listed three in each line. The inside of the text file would look like:\n",
    "\n",
    "abc\n",
    "def\n",
    "ghi\n",
    "\n",
    "and so on."
   ]
  },
  {
   "cell_type": "code",
   "execution_count": 24,
   "metadata": {},
   "outputs": [],
   "source": [
    "import string\n",
    "with open(\"lettersbythree.txt\", \"w\") as file:\n",
    "    for letter1,letter2,letter3 in zip(string.ascii_lowercase[0::3],string.ascii_letters[1::3],string.ascii_letters[2::3] ):      \n",
    "        file.write(letter1 + letter2 + letter3 + \"\\n\")"
   ]
  },
  {
   "cell_type": "markdown",
   "metadata": {},
   "source": [
    "---"
   ]
  },
  {
   "cell_type": "markdown",
   "metadata": {},
   "source": [
    "Question 45 : Please create a script that generates 26 text files named a.txt, b.txt, and so on up to z.txt. Each file should contain a letter reflecting its filename. So, a.txt will contain letter a, b.txt will contain letter b and so on."
   ]
  },
  {
   "cell_type": "code",
   "execution_count": 26,
   "metadata": {},
   "outputs": [],
   "source": [
    "import string,os\n",
    "if  not os.path.exists(\"all_letters\"):\n",
    "    os.makedirs(\"all_letters\")\n",
    "for letter in string.ascii_lowercase:\n",
    "    with open(\"all_letters/\" + letter + \".txt\", \"w\") as file:\n",
    "        file.write(letter + \"\\n\")"
   ]
  },
  {
   "cell_type": "markdown",
   "metadata": {},
   "source": [
    "---"
   ]
  },
  {
   "cell_type": "markdown",
   "metadata": {},
   "source": [
    "Question 46 : The code produces an error. Please understand the error and try to fix it\n",
    "\n",
    "age = input(\"What's your age? \")\n",
    "\n",
    "age_last_year = age - 1\n",
    "\n",
    "print(\"Last year you were %s.\" % age_last_year)"
   ]
  },
  {
   "cell_type": "code",
   "execution_count": 27,
   "metadata": {},
   "outputs": [
    {
     "name": "stdout",
     "output_type": "stream",
     "text": [
      "What's your age? 26\n",
      "Last year you were 25.\n"
     ]
    }
   ],
   "source": [
    "age = int(input(\"What's your age? \"))\n",
    "age_last_year = age - 1\n",
    "print(\"Last year you were %s.\" % age_last_year)"
   ]
  },
  {
   "cell_type": "markdown",
   "metadata": {},
   "source": [
    "---"
   ]
  },
  {
   "cell_type": "markdown",
   "metadata": {},
   "source": [
    "Question 47 : The script is supposed to print out letter \"e\" if the letter is in string \"Hello\", but it doesn't. Please try to fix the script.\n",
    "\n",
    "for letter in \"Hello\":\n",
    "\n",
    "    if letter == \"e\":\n",
    "    \n",
    "    print(letter)\n",
    "Expected output:\n",
    "\n",
    "e "
   ]
  },
  {
   "cell_type": "code",
   "execution_count": 28,
   "metadata": {},
   "outputs": [
    {
     "name": "stdout",
     "output_type": "stream",
     "text": [
      "e\n"
     ]
    }
   ],
   "source": [
    "for letter in \"Hello\":\n",
    "    if letter == \"e\":\n",
    "        print(letter)"
   ]
  },
  {
   "cell_type": "markdown",
   "metadata": {},
   "source": [
    "---"
   ]
  },
  {
   "cell_type": "markdown",
   "metadata": {},
   "source": [
    "Question 48 : The code is supposed to get some input from the user, but instead it produces an error. Please try to understand the error and then fix it.\n",
    "\n",
    "pass = input(\"Please enter your password: \") \n",
    "\n",
    "Hint: You cannot use reserved keywords for variable names."
   ]
  },
  {
   "cell_type": "code",
   "execution_count": 29,
   "metadata": {},
   "outputs": [
    {
     "name": "stdout",
     "output_type": "stream",
     "text": [
      "Please enter your password: 123456\n"
     ]
    }
   ],
   "source": [
    "pass1 = input(\"Please enter your password: \")  # We cannot use pass as it is reserve keword"
   ]
  },
  {
   "cell_type": "markdown",
   "metadata": {},
   "source": [
    "---"
   ]
  },
  {
   "cell_type": "markdown",
   "metadata": {},
   "source": [
    "Question 49 : Write a Script that extract letters from 26 text files and put the letters in a list"
   ]
  },
  {
   "cell_type": "code",
   "execution_count": 30,
   "metadata": {},
   "outputs": [
    {
     "name": "stdout",
     "output_type": "stream",
     "text": [
      "['a', 'b', 'c', 'd', 'e', 'f', 'g', 'h', 'i', 'j', 'k', 'l', 'm', 'n', 'o', 'p', 'q', 'r', 's', 't', 'u', 'v', 'w', 'x', 'y', 'z']\n"
     ]
    }
   ],
   "source": [
    "import glob\n",
    "\n",
    "letters = []\n",
    "file_list = glob.glob(\"all_letters/*.txt\")\n",
    "for filename in file_list:\n",
    "    with open(filename, \"r\") as file:\n",
    "        letters.append(file.read().strip(\"\\n\"))\n",
    "print(letters)  "
   ]
  },
  {
   "cell_type": "markdown",
   "metadata": {},
   "source": [
    "---"
   ]
  },
  {
   "cell_type": "markdown",
   "metadata": {},
   "source": [
    "Question 50 : Write a Script that extract letters from 26 text files check if the letter in file is in String \"Python\". then put the letters in a list."
   ]
  },
  {
   "cell_type": "code",
   "execution_count": 31,
   "metadata": {},
   "outputs": [
    {
     "name": "stdout",
     "output_type": "stream",
     "text": [
      "['h', 'n', 'o', 'p', 't', 'y']\n"
     ]
    }
   ],
   "source": [
    "import glob\n",
    "\n",
    "letters = []\n",
    "file_list = glob.iglob(\"all_letters/*.txt\")\n",
    "check = \"python\"\n",
    "\n",
    "for filename in file_list:\n",
    "    with open(filename,\"r\") as file:\n",
    "        letter = file.read().strip(\"\\n\")\n",
    "        if letter in check:\n",
    "            letters.append(letter)\n",
    "\n",
    "print(letters)"
   ]
  }
 ],
 "metadata": {
  "kernelspec": {
   "display_name": "Python 3",
   "language": "python",
   "name": "python3"
  },
  "language_info": {
   "codemirror_mode": {
    "name": "ipython",
    "version": 3
   },
   "file_extension": ".py",
   "mimetype": "text/x-python",
   "name": "python",
   "nbconvert_exporter": "python",
   "pygments_lexer": "ipython3",
   "version": "3.6.4"
  }
 },
 "nbformat": 4,
 "nbformat_minor": 2
}
